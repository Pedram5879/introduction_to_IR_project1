{
  "cells": [
    {
      "cell_type": "markdown",
      "source": [
        "# Colab init"
      ],
      "metadata": {
        "id": "-5t1T_IcNosa"
      }
    },
    {
      "cell_type": "code",
      "execution_count": 1,
      "metadata": {
        "colab": {
          "base_uri": "https://localhost:8080/"
        },
        "id": "nbrBqe7B7JC9",
        "outputId": "50176b36-2480-4839-c03e-c99c25528ef6"
      },
      "outputs": [
        {
          "output_type": "stream",
          "name": "stdout",
          "text": [
            "Drive already mounted at /content/drive; to attempt to forcibly remount, call drive.mount(\"/content/drive\", force_remount=True).\n"
          ]
        }
      ],
      "source": [
        "from google.colab import drive\n",
        "drive.mount('/content/drive')\n",
        "folder_path = '/content/drive/My Drive/Colab Notebooks/IR_Project/'"
      ]
    },
    {
      "cell_type": "code",
      "execution_count": 2,
      "metadata": {
        "colab": {
          "base_uri": "https://localhost:8080/"
        },
        "id": "vT1IR_G57kxA",
        "outputId": "c361f75e-13ca-4f6b-bc5f-4c73e550a414"
      },
      "outputs": [
        {
          "output_type": "stream",
          "name": "stdout",
          "text": [
            "Requirement already satisfied: pdfplumber in /usr/local/lib/python3.10/dist-packages (0.11.4)\n",
            "Requirement already satisfied: pdfminer.six==20231228 in /usr/local/lib/python3.10/dist-packages (from pdfplumber) (20231228)\n",
            "Requirement already satisfied: Pillow>=9.1 in /usr/local/lib/python3.10/dist-packages (from pdfplumber) (10.4.0)\n",
            "Requirement already satisfied: pypdfium2>=4.18.0 in /usr/local/lib/python3.10/dist-packages (from pdfplumber) (4.30.0)\n",
            "Requirement already satisfied: charset-normalizer>=2.0.0 in /usr/local/lib/python3.10/dist-packages (from pdfminer.six==20231228->pdfplumber) (3.4.0)\n",
            "Requirement already satisfied: cryptography>=36.0.0 in /usr/local/lib/python3.10/dist-packages (from pdfminer.six==20231228->pdfplumber) (43.0.3)\n",
            "Requirement already satisfied: cffi>=1.12 in /usr/local/lib/python3.10/dist-packages (from cryptography>=36.0.0->pdfminer.six==20231228->pdfplumber) (1.17.1)\n",
            "Requirement already satisfied: pycparser in /usr/local/lib/python3.10/dist-packages (from cffi>=1.12->cryptography>=36.0.0->pdfminer.six==20231228->pdfplumber) (2.22)\n"
          ]
        }
      ],
      "source": [
        "!pip install pdfplumber"
      ]
    },
    {
      "cell_type": "markdown",
      "metadata": {
        "id": "VSuVJ8IC93mF"
      },
      "source": [
        "# Test"
      ]
    },
    {
      "cell_type": "code",
      "source": [
        "from collections import Counter\n",
        "\n",
        "def font_beautify(font_sizes):\n",
        "    # Create a Counter to count occurrences of each font size\n",
        "    size_counter = Counter(font_sizes)\n",
        "\n",
        "    # Find the most common font size (body font size)\n",
        "    body_font_size = size_counter.most_common(1)[0][0]\n",
        "\n",
        "    # Remove the body font size from the set of unique font sizes\n",
        "    font_sizes_set = set(font_sizes)\n",
        "    font_sizes_set.discard(body_font_size)\n",
        "\n",
        "    # Sort the remaining font sizes in descending order\n",
        "    sorted_sizes = sorted(font_sizes_set, reverse=True)\n",
        "\n",
        "    # Create a dictionary mapping font sizes to their corresponding header names\n",
        "    fonts = {size: f\"Header {index + 1}\" for index, size in enumerate(sorted_sizes)}\n",
        "\n",
        "    # Assign the body font size to \"Body\"\n",
        "    fonts[body_font_size] = \"Body\"\n",
        "\n",
        "    return fonts\n"
      ],
      "metadata": {
        "id": "t8MKRDhDNLX1"
      },
      "execution_count": 74,
      "outputs": []
    },
    {
      "cell_type": "code",
      "execution_count": 75,
      "metadata": {
        "colab": {
          "base_uri": "https://localhost:8080/"
        },
        "id": "EsTLBGEl93Hq",
        "outputId": "f7812b25-e538-4977-d31c-ba5dbdf31e21"
      },
      "outputs": [
        {
          "output_type": "stream",
          "name": "stdout",
          "text": [
            "Unique font sizes: {36.0: 'Header 1', 18.0: 'Header 2', 12.0: 'Body'}\n"
          ]
        }
      ],
      "source": [
        "\n",
        "import pdfplumber\n",
        "\n",
        "def extract_paragraphs(pdf_path):\n",
        "    paragraphs = []\n",
        "    paragraph = \"\"\n",
        "    font_sizes = []\n",
        "    with pdfplumber.open(pdf_path) as pdf:\n",
        "        for page in pdf.pages:\n",
        "            for block in page.extract_text_lines():\n",
        "                chars = block['chars']\n",
        "                font_size = round(chars[0]['size'], 1)\n",
        "                font_type = chars[0]['fontname']\n",
        "                pos = chars[0]['top']\n",
        "                content = str(block['text'])\n",
        "                if not content.isdigit():\n",
        "                  font_sizes.append(font_size)\n",
        "                  paragraphs.append({\n",
        "                    'text': content,\n",
        "                    'size': font_size,\n",
        "                    'font': font_type,\n",
        "                    'position': pos\n",
        "                })\n",
        "\n",
        "\n",
        "\n",
        "\n",
        "    return paragraphs , font_sizes\n",
        "\n",
        "pdf_path = folder_path +'sample.pdf'\n",
        "paragraphs ,font_sizes = extract_paragraphs(pdf_path)\n",
        "fonts = font_beautify(font_sizes)\n",
        "print(\"Unique font sizes:\", fonts)\n",
        "# for paragraph in paragraphs:\n",
        "#     print(f\"Text: {paragraph['text']}, Size: {paragraph['size']}, Font: {paragraph['font']}\")"
      ]
    },
    {
      "cell_type": "code",
      "source": [
        "import json\n",
        "from collections import defaultdict\n",
        "\n",
        "\n",
        "def group_by_size_recursively(paragraphs, current_size, fonts, labels):\n",
        "    result = []\n",
        "    lines = []\n",
        "    current_obj = None\n",
        "    while paragraphs:\n",
        "        paragraph = paragraphs.pop(0)\n",
        "        if paragraph[\"position\"] < 50:\n",
        "          continue\n",
        "\n",
        "        # If the next paragraph has a larger font size, return to the previous level\n",
        "        if paragraph[\"size\"] > current_size:\n",
        "            result.append(lines)\n",
        "            paragraphs.insert(0, paragraph)  # put it back for the caller level\n",
        "            return result\n",
        "        if fonts[paragraph[\"size\"]] != \"Body\":\n",
        "          if current_obj is None:\n",
        "                current_obj = {\n",
        "                    \"content\": fonts[paragraph[\"size\"]],\n",
        "                    \"text\": paragraph[\"text\"],\n",
        "                    \"size\": paragraph[\"size\"],\n",
        "                    \"position\": paragraph[\"position\"]\n",
        "                }\n",
        "          elif fonts[paragraph[\"size\"]] == fonts[current_obj[\"size\"]]:\n",
        "              current_obj[\"text\"] += \" \" + paragraph[\"text\"]\n",
        "          else:\n",
        "            if not any(label[\"text\"] == current_obj[\"text\"] for label in labels):\n",
        "               labels.append(current_obj)\n",
        "            current_obj = None\n",
        "\n",
        "        if paragraph[\"size\"] == current_size:\n",
        "          if fonts[paragraph[\"size\"]] == \"Body\":\n",
        "            lines.append(paragraph[\"text\"])\n",
        "        else:\n",
        "            if current_obj is not None:\n",
        "              labels.append(current_obj)\n",
        "              current_obj = None\n",
        "            paragraphs.insert(0, paragraph)\n",
        "            sub_layer = group_by_size_recursively(paragraphs, paragraph[\"size\"], fonts, labels)\n",
        "\n",
        "\n",
        "            if labels:\n",
        "              label = labels.pop()\n",
        "              label_text = label[\"text\"]\n",
        "            else:\n",
        "              label_text =  \"subLayer\"\n",
        "\n",
        "\n",
        "            result.append({\n",
        "                label_text : sub_layer\n",
        "            })\n",
        "\n",
        "    result.append(lines)\n",
        "    return result\n",
        "\n",
        "labels = []\n",
        "layered_structure = group_by_size_recursively(paragraphs, paragraphs[0][\"size\"] , fonts, labels)\n",
        "\n",
        "json_output = json.dumps(layered_structure, indent=4)\n",
        "print(json_output)\n"
      ],
      "metadata": {
        "colab": {
          "base_uri": "https://localhost:8080/"
        },
        "id": "c9y-wzSeGVyG",
        "outputId": "0083fcb6-beb2-406c-f40d-260bb8b17404"
      },
      "execution_count": 76,
      "outputs": [
        {
          "output_type": "stream",
          "name": "stdout",
          "text": [
            "[\n",
            "    {\n",
            "        \"Sample PDF\": [\n",
            "            {\n",
            "                \"This is a simple PDF file. Fun fun fun.\": [\n",
            "                    [\n",
            "                        \"Lorem ipsum dolor sit amet, consectetuer adipiscing elit. Phasellus facilisis odio sed mi.\",\n",
            "                        \"Curabitur suscipit. Nullam vel nisi. Etiam semper ipsum ut lectus. Proin aliquam, erat eget\",\n",
            "                        \"pharetra commodo, eros mi condimentum quam, sed commodo justo quam ut velit.\",\n",
            "                        \"Integer a erat. Cras laoreet ligula cursus enim. Aenean scelerisque velit et tellus.\",\n",
            "                        \"Vestibulum dictum aliquet sem. Nulla facilisi. Vestibulum accumsan ante vitae elit. Nulla\",\n",
            "                        \"erat dolor, blandit in, rutrum quis, semper pulvinar, enim. Nullam varius congue risus.\",\n",
            "                        \"Vivamus sollicitudin, metus ut interdum eleifend, nisi tellus pellentesque elit, tristique\",\n",
            "                        \"accumsan eros quam et risus. Suspendisse libero odio, mattis sit amet, aliquet eget,\",\n",
            "                        \"hendrerit vel, nulla. Sed vitae augue. Aliquam erat volutpat. Aliquam feugiat vulputate nisl.\",\n",
            "                        \"Suspendisse quis nulla pretium ante pretium mollis. Proin velit ligula, sagittis at, egestas a,\",\n",
            "                        \"pulvinar quis, nisl.\",\n",
            "                        \"Pellentesque sit amet lectus. Praesent pulvinar, nunc quis iaculis sagittis, justo quam\",\n",
            "                        \"lobortis tortor, sed vestibulum dui metus venenatis est. Nunc cursus ligula. Nulla facilisi.\",\n",
            "                        \"Phasellus ullamcorper consectetuer ante. Duis tincidunt, urna id condimentum luctus, nibh\",\n",
            "                        \"ante vulputate sapien, id sagittis massa orci ut enim. Pellentesque vestibulum convallis\",\n",
            "                        \"sem. Nulla consequat quam ut nisl. Nullam est. Curabitur tincidunt dapibus lorem. Proin\",\n",
            "                        \"velit turpis, scelerisque sit amet, iaculis nec, rhoncus ac, ipsum. Phasellus lorem arcu,\",\n",
            "                        \"feugiat eu, gravida eu, consequat molestie, ipsum. Nullam vel est ut ipsum volutpat\",\n",
            "                        \"feugiat. Aenean pellentesque.\",\n",
            "                        \"In mauris. Pellentesque dui nisi, iaculis eu, rhoncus in, venenatis ac, ante. Ut odio justo,\",\n",
            "                        \"scelerisque vel, facilisis non, commodo a, pede. Cras nec massa sit amet tortor volutpat\",\n",
            "                        \"varius. Donec lacinia, neque a luctus aliquet, pede massa imperdiet ante, at varius lorem\",\n",
            "                        \"pede sed sapien. Fusce erat nibh, aliquet in, eleifend eget, commodo eget, erat. Fusce\",\n",
            "                        \"consectetuer. Cras risus tortor, porttitor nec, tristique sed, convallis semper, eros. Fusce\",\n",
            "                        \"vulputate ipsum a mauris. Phasellus mollis. Curabitur sed urna. Aliquam nec sapien non\",\n",
            "                        \"nibh pulvinar convallis. Vivamus facilisis augue quis quam. Proin cursus aliquet metus.\",\n",
            "                        \"Suspendisse lacinia. Nulla at tellus ac turpis eleifend scelerisque. Maecenas a pede vitae\",\n",
            "                        \"enim commodo interdum. Donec odio. Sed sollicitudin dui vitae justo.\",\n",
            "                        \"Morbi elit nunc, facilisis a, mollis a, molestie at, lectus. Suspendisse eget mauris eu tellus\",\n",
            "                        \"molestie cursus. Duis ut magna at justo dignissim condimentum. Cum sociis natoque\",\n",
            "                        \"penatibus et magnis dis parturient montes, nascetur ridiculus mus. Vivamus varius. Ut sit\",\n",
            "                        \"amet diam suscipit mauris ornare aliquam. Sed varius. Duis arcu. Etiam tristique massa\",\n",
            "                        \"eget dui. Phasellus congue. Aenean est erat, tincidunt eget, venenatis quis, commodo at,\",\n",
            "                        \"quam.\"\n",
            "                    ]\n",
            "                ]\n",
            "            },\n",
            "            []\n",
            "        ]\n",
            "    },\n",
            "    []\n",
            "]\n"
          ]
        }
      ]
    }
  ],
  "metadata": {
    "colab": {
      "provenance": [],
      "toc_visible": true
    },
    "kernelspec": {
      "display_name": "Python 3 (ipykernel)",
      "language": "python",
      "name": "python3"
    },
    "language_info": {
      "name": "python"
    }
  },
  "nbformat": 4,
  "nbformat_minor": 0
}