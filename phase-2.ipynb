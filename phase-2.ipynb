{
  "cells": [
    {
      "cell_type": "code",
      "execution_count": 29,
      "metadata": {
        "colab": {
          "base_uri": "https://localhost:8080/"
        },
        "id": "nbrBqe7B7JC9",
        "outputId": "5ea4930d-e9d3-45d6-e85b-572a84fc5b14"
      },
      "outputs": [
        {
          "output_type": "stream",
          "name": "stdout",
          "text": [
            "Drive already mounted at /content/drive; to attempt to forcibly remount, call drive.mount(\"/content/drive\", force_remount=True).\n"
          ]
        }
      ],
      "source": [
        "from google.colab import drive\n",
        "drive.mount('/content/drive')"
      ]
    },
    {
      "cell_type": "markdown",
      "metadata": {
        "id": "Q7tKMETOfLW2"
      },
      "source": [
        "##Load and Preprocess PDF Files"
      ]
    },
    {
      "cell_type": "code",
      "source": [
        "!pip install PyPDF2"
      ],
      "metadata": {
        "colab": {
          "base_uri": "https://localhost:8080/"
        },
        "id": "3o34Z6a7i7lq",
        "outputId": "fead9277-5563-4364-eb1e-5ac8fccbe95d"
      },
      "execution_count": 30,
      "outputs": [
        {
          "output_type": "stream",
          "name": "stdout",
          "text": [
            "Requirement already satisfied: PyPDF2 in /usr/local/lib/python3.10/dist-packages (3.0.1)\n"
          ]
        }
      ]
    },
    {
      "cell_type": "code",
      "source": [
        "import os\n",
        "import zipfile\n",
        "from pathlib import Path\n",
        "from nltk.tokenize import TreebankWordTokenizer\n",
        "from PyPDF2 import PdfReader\n",
        "from sklearn.feature_extraction.text import TfidfVectorizer\n",
        "from sklearn.metrics.pairwise import cosine_similarity\n",
        "\n",
        "\n",
        "\n",
        "def extract_text_from_pdf(pdf_path):\n",
        "    \"\"\"Extracts text from a PDF file.\"\"\"\n",
        "    with open(pdf_path, 'rb') as file:\n",
        "        pdf = PdfReader(file)\n",
        "        text = \"\"\n",
        "        for page in pdf.pages:\n",
        "            text += page.extract_text()\n",
        "    return text\n",
        "\n",
        "\n",
        "def load_pdfs_from_zip(zip_path):\n",
        "    \"\"\"Loads PDF files from a ZIP file and extracts their text.\"\"\"\n",
        "    extracted_texts = {}\n",
        "    temp_dir = \"temp_documents\"\n",
        "\n",
        "    # Unzip the documents\n",
        "    with zipfile.ZipFile(zip_path, 'r') as zip_ref:\n",
        "        zip_ref.extractall(temp_dir)\n",
        "\n",
        "    # Iterate through the extracted PDF files\n",
        "    for pdf_file in Path(temp_dir).rglob(\"*.pdf\"):\n",
        "        extracted_texts[pdf_file.name] = extract_text_from_pdf(pdf_file)\n",
        "\n",
        "    # Clean up the temporary directory\n",
        "    for file in Path(temp_dir).glob(\"*\"):\n",
        "        if file.is_file():\n",
        "            file.unlink()\n",
        "        else:\n",
        "            for subfile in file.glob(\"*\"):\n",
        "                subfile.unlink()\n",
        "            file.rmdir()\n",
        "    Path(temp_dir).rmdir()\n",
        "\n",
        "    return extracted_texts\n"
      ],
      "metadata": {
        "id": "KTm0-6WTvYam"
      },
      "execution_count": 36,
      "outputs": []
    },
    {
      "cell_type": "markdown",
      "source": [
        "##Boolean Retrieval Model"
      ],
      "metadata": {
        "id": "EVJ11zFy9X8A"
      }
    },
    {
      "cell_type": "code",
      "source": [
        "def boolean_search(documents, query):\n",
        "    \"\"\"\n",
        "    Performs a boolean search over documents.\n",
        "    Supports queries with AND, OR, NOT operators.\n",
        "    \"\"\"\n",
        "    tokenizer = TreebankWordTokenizer()\n",
        "    query = query.lower()\n",
        "    query_tokens = tokenizer.tokenize(query)\n",
        "\n",
        "    results = {}\n",
        "    for doc_name, content in documents.items():\n",
        "        content_tokens = set(tokenizer.tokenize(content.lower()))\n",
        "\n",
        "        # Split the content into lines\n",
        "        lines = content.split(\"\\n\")\n",
        "\n",
        "        matching_lines = []  # To store matching lines for this document\n",
        "\n",
        "        # Handle simple AND, OR, NOT queries\n",
        "        if \"and\" in query_tokens:\n",
        "            terms = [t for t in query_tokens if t != \"and\"]\n",
        "            if all(term in content_tokens for term in terms):\n",
        "                # Add lines that contain the query terms\n",
        "                matching_lines = [line for line in lines if all(term in line.lower() for term in terms)]\n",
        "        elif \"or\" in query_tokens:\n",
        "            terms = [t for t in query_tokens if t != \"or\"]\n",
        "            if any(term in content_tokens for term in terms):\n",
        "                # Add lines that contain any of the query terms\n",
        "                matching_lines = [line for line in lines if any(term in line.lower() for term in terms)]\n",
        "        elif \"not\" in query_tokens:\n",
        "            term = query_tokens[query_tokens.index(\"not\") + 1]\n",
        "            if term not in content_tokens:\n",
        "                # Add lines that do not contain the term\n",
        "                matching_lines = [line for line in lines if term not in line.lower()]\n",
        "        else:  # Single term\n",
        "            if query in content_tokens:\n",
        "                # Add lines that contain the query term\n",
        "                matching_lines = [line for line in lines if query in line.lower()]\n",
        "\n",
        "        if matching_lines:\n",
        "            results[doc_name] = matching_lines\n",
        "\n",
        "    return results\n"
      ],
      "metadata": {
        "id": "7cHLMbeOudUV"
      },
      "execution_count": 37,
      "outputs": []
    },
    {
      "cell_type": "markdown",
      "source": [
        "##Vector Space Model"
      ],
      "metadata": {
        "id": "e2kh71LC9dnZ"
      }
    },
    {
      "cell_type": "code",
      "source": [
        "import nltk\n",
        "nltk.download('punkt_tab')  # for tokenaization\n",
        "nltk.download('stopwords')  # for stop words\n",
        "nltk.download('wordnet')  # for lemmatization\n"
      ],
      "metadata": {
        "colab": {
          "base_uri": "https://localhost:8080/"
        },
        "id": "Ts5nyb-HzFkh",
        "outputId": "c33305cf-ce41-4096-d935-853ff632a3b4"
      },
      "execution_count": 38,
      "outputs": [
        {
          "output_type": "stream",
          "name": "stderr",
          "text": [
            "[nltk_data] Downloading package punkt_tab to /root/nltk_data...\n",
            "[nltk_data]   Package punkt_tab is already up-to-date!\n",
            "[nltk_data] Downloading package stopwords to /root/nltk_data...\n",
            "[nltk_data]   Package stopwords is already up-to-date!\n",
            "[nltk_data] Downloading package wordnet to /root/nltk_data...\n",
            "[nltk_data]   Package wordnet is already up-to-date!\n"
          ]
        },
        {
          "output_type": "execute_result",
          "data": {
            "text/plain": [
              "True"
            ]
          },
          "metadata": {},
          "execution_count": 38
        }
      ]
    },
    {
      "cell_type": "code",
      "source": [
        "import nltk\n",
        "from nltk.tokenize import word_tokenize\n",
        "from nltk.corpus import stopwords\n",
        "from nltk.stem import PorterStemmer\n",
        "from nltk.stem import WordNetLemmatizer\n",
        "from sklearn.feature_extraction.text import TfidfVectorizer\n",
        "from sklearn.metrics.pairwise import cosine_similarity\n",
        "\n",
        "# Download necessary resources\n",
        "nltk.download('punkt')\n",
        "nltk.download('stopwords')\n",
        "nltk.download('wordnet')\n",
        "\n",
        "def preprocess_query(query):\n",
        "    # Tokenize query\n",
        "    tokens = word_tokenize(query.lower())\n",
        "\n",
        "    # Remove stopwords\n",
        "    stop_words = set(stopwords.words('english'))\n",
        "    tokens = [word for word in tokens if word not in stop_words]\n",
        "\n",
        "    # Apply stemming\n",
        "    stemmer = PorterStemmer()\n",
        "    tokens = [stemmer.stem(word) for word in tokens]\n",
        "\n",
        "    # Apply lemmatization\n",
        "    lemmatizer = WordNetLemmatizer()\n",
        "    tokens = [lemmatizer.lemmatize(word) for word in tokens]\n",
        "\n",
        "    # Rejoin tokens back into string\n",
        "    return \" \".join(tokens)\n",
        "\n",
        "def vector_space_search(documents, query, top_n=155):\n",
        "    \"\"\"\n",
        "    Performs a vector space search using TF-IDF.\n",
        "    Returns the top N most relevant documents and matching lines.\n",
        "    \"\"\"\n",
        "    # Preprocess query (remove stopwords, stemming, and lemmatization)\n",
        "    query_tokens = preprocess_query(query)\n",
        "\n",
        "    # Prepare TF-IDF matrix\n",
        "    vectorizer = TfidfVectorizer(stop_words='english', ngram_range=(1, 3))\n",
        "    doc_names = list(documents.keys())\n",
        "    doc_texts = list(documents.values())\n",
        "    tfidf_matrix = vectorizer.fit_transform(doc_texts)\n",
        "\n",
        "    # Transform query into the same TF-IDF space\n",
        "    query_vector = vectorizer.transform([query_tokens])\n",
        "\n",
        "    # Compute cosine similarity\n",
        "    similarities = cosine_similarity(query_vector, tfidf_matrix).flatten()\n",
        "    top_indices = similarities.argsort()[-top_n:][::-1]\n",
        "\n",
        "    # Get the top N results\n",
        "    top_documents = [(doc_names[i], similarities[i], doc_texts[i]) for i in top_indices]\n",
        "\n",
        "    # Find matching lines for each of the top N documents\n",
        "    results = {}\n",
        "    for doc_name, score, content in top_documents:\n",
        "        lines = content.split(\"\\n\")\n",
        "        matching_lines = [line for line in lines if query.lower() in line.lower()]\n",
        "        if matching_lines:\n",
        "            results[doc_name] = matching_lines\n",
        "\n",
        "    return results\n"
      ],
      "metadata": {
        "id": "Fu0x021IvR_m",
        "colab": {
          "base_uri": "https://localhost:8080/"
        },
        "outputId": "823a6c18-4ede-4f05-a3cc-5bf637fdffd7"
      },
      "execution_count": 63,
      "outputs": [
        {
          "output_type": "stream",
          "name": "stderr",
          "text": [
            "[nltk_data] Downloading package punkt to /root/nltk_data...\n",
            "[nltk_data]   Package punkt is already up-to-date!\n",
            "[nltk_data] Downloading package stopwords to /root/nltk_data...\n",
            "[nltk_data]   Package stopwords is already up-to-date!\n",
            "[nltk_data] Downloading package wordnet to /root/nltk_data...\n",
            "[nltk_data]   Package wordnet is already up-to-date!\n"
          ]
        }
      ]
    },
    {
      "cell_type": "markdown",
      "source": [
        "##Main Script"
      ],
      "metadata": {
        "id": "uA1O0EYv9hlI"
      }
    },
    {
      "cell_type": "code",
      "source": [
        "def main():\n",
        "    zip_path = \"/content/drive/MyDrive/phase2/Documents.zip\"  # Path to your ZIP file containing PDFs\n",
        "\n",
        "    print(\"Loading documents...\")\n",
        "    documents = load_pdfs_from_zip(zip_path)\n",
        "    print(f\"Documents loaded: {documents.keys()}\")\n",
        "\n",
        "    # # Print all document names\n",
        "    # print(\"All Document Names:\")\n",
        "    # for doc_name in documents.keys():\n",
        "    #   print(doc_name)\n",
        "\n",
        "    # Example usage of Boolean Retrieval Model\n",
        "    print(\"\\n--- Boolean Search ---\")\n",
        "    boolean_query = \"factors AND must AND be AND considered\"\n",
        "    # factors AND must AND be AND considered\n",
        "    boolean_results = boolean_search(documents, boolean_query)\n",
        "    print(f\"Boolean Search Results for '{boolean_query}':\")\n",
        "    for doc, lines in boolean_results.items():\n",
        "        print(f\"Document: {doc}\")\n",
        "        for line in lines:\n",
        "            print(f\"  Line: {line}\")\n",
        "\n",
        "    # Example usage of Vector Space Model\n",
        "    print(\"\\n--- Vector Space Search ---\")\n",
        "    vector_query = \"ADHD\"\n",
        "    vector_results = vector_space_search(documents, vector_query, top_n=155)\n",
        "    print(f\"Vector Space Search Results for '{vector_query}':\")\n",
        "    for doc, lines in vector_results.items():\n",
        "        print(f\"Document: {doc}\")\n",
        "        for line in lines:\n",
        "            print(f\"  Line: {line}\")\n",
        "\n"
      ],
      "metadata": {
        "id": "yaux96eDvcTj"
      },
      "execution_count": 74,
      "outputs": []
    },
    {
      "cell_type": "code",
      "source": [
        "if __name__ == \"__main__\":\n",
        "    main()"
      ],
      "metadata": {
        "colab": {
          "base_uri": "https://localhost:8080/"
        },
        "id": "OjYT2ZOqxAT8",
        "outputId": "cd7667b4-8589-4105-a948-267547ebb722"
      },
      "execution_count": 75,
      "outputs": [
        {
          "output_type": "stream",
          "name": "stdout",
          "text": [
            "Loading documents...\n",
            "Documents loaded: dict_keys(['Voyeuristic Disorder.pdf', 'Rapid Eye Movement Sleep Behavior Disorder.pdf', 'Narcolepsy.pdf', 'Panic Attack Specifier.pdf', 'Major or Mild Neurocognitive Disorder Due to Prion Disease.pdf', 'Conversion Disorder (Functional Neurological Symptom Disorder).pdf', 'Narcissistic Personality Disorder.pdf', 'Hoarding Disorder.pdf', 'Other Mental Disorders.pdf', 'Stimulant-Related Disorders.pdf', 'Unspecified Bipolar and Related Disorder.pdf', 'Obsessive-Compulsive and Related Disorders.pdf', 'Disruptive, Impulse-Control, and Conduct Disorders.pdf', 'Premenstrual Dysphoric Disorder.pdf', 'Body Dysmorphic Disorder.pdf', 'Dependent Personality Disorder.pdf', 'Anxiety Disorders.pdf', 'Major or Mild Neurocognitive Disorder With Lewy Bodies.pdf', 'Separation Anxiety Disorder.pdf', 'Alcohol-Related Disorders.pdf', 'Major or Mild Vascular Neurocognitive Disorder.pdf', 'Dissociative Amnesia.pdf', 'Histrionic Personality Disorder.pdf', 'Substance Medication-Induced Obsessive-Compulsive and Related Disorder.pdf', 'Tobacco-Related Disorders.pdf', 'Persistent Depressive Disorder (Dysthymia).pdf', 'Cannabis-Related Disorders.pdf', 'Cyclothymic Disorder.pdf', 'Specific Phobia.pdf', 'Gender Dysphoria.pdf', 'Generalized Anxiety Disorder.pdf', 'Restless Legs Syndrome.pdf', 'Exhibitionistic Disorder.pdf', 'Obstructive Sleep Apnea Hypopnea.pdf', 'Hallucinogen-Related Disorders.pdf', 'Trauma- and Stressor-Related Disorders.pdf', 'Major or Mild Frontotemporal Neurocognitive Disorder.pdf', 'Elimination Disorders.pdf', 'Communication Disorders.pdf', 'Feeding and Eating Disorders.pdf', 'Motor Disorders.pdf', 'Obsessive-Compulsive Disorder.pdf', 'Social Anxiety Disorder (Social Phobia).pdf', 'Delusional Disorder.pdf', 'Substance Medication-Induced Psychotic Disorder.pdf', 'Autism Spectrum Disorder.pdf', 'Pica.pdf', 'Major or Mild Neurocognitive Disorder Due to Another Medical Condition.pdf', 'Depressive Disorders.pdf', 'Brief Psychotic Disorder.pdf', 'Psychotic Disorder Due to Another Medical Condition.pdf', 'Substance Medication-Induced Depressive Disorder.pdf', 'Hypersomnolence Disorder.pdf', 'Reactive Attachment Disorder.pdf', 'Rumination Disorder.pdf', 'Non-Substance-Related Disorders.pdf', 'Disinhibited Social Engagement Disorder.pdf', 'Other Sleep-Wake Disorders.pdf', 'General Personality Disorder.pdf', 'Substance-Related and Addictive Disorders.pdf', 'Neurocognitive Disorders.pdf', 'Substance Medication-Induced.pdf', 'Major or Mild Neurocognitive Disorder Due to Traumatic Brain Injury.pdf', 'Caffeine-Related Disorders.pdf', 'Other Specified & UnSpecified Obsessive-Compulsive and Related Disorder.pdf', 'Specific Learning Disorder.pdf', 'Major or Mild Neurocognitive Disorder Due to Parkinson’s Disease.pdf', 'Other (or Unknown) Substance–Related Disorders.pdf', 'Bulimia Nervosa.pdf', 'Acute Stress Disorder.pdf', 'Other Conditions That May Be a Focus of Clinical Attention.pdf', 'Obsessive-Compulsive and Related Disorder Due to Another Medical Condition.pdf', 'Inhalant-Related Disorders.pdf', 'Major or Mild Neurocognitive Disorder Due to Multiple Etiologies.pdf', 'Selective Mutism.pdf', 'Somatic Symptom and Related Disorders.pdf', 'Personality Disorders.pdf', 'Sleep-Related Hypoventilation.pdf', 'Other Specified & UnSpecified Somatic Symptom and Related Disorder.pdf', 'Delirium.pdf', 'Catatonia.pdf', 'Attention-Deficit Hyperactivity.pdf', 'Opioid-Related Disorders.pdf', 'Bipolar and Related Disorder Due to Another Medical Condition.pdf', 'Bipolar I Disorder.pdf', 'Schizotypal Personality Disorder.pdf', 'Excoriation (Skin-Picking) Disorder.pdf', 'Obsessive-Compulsive Personality Disorder.pdf', 'Medication-Induced Movement Disorders and.pdf', 'Agoraphobia.pdf', 'Paranoid Personality Disorder.pdf', 'Fetishistic Disorder.pdf', 'Sedative-, Hypnotic-, or Anxiolytic-Related Disorders.pdf', 'Anorexia Nervosa.pdf', 'Dissociative Identity Disorder.pdf', 'Substance Medication-Induced Sleep Disorder.pdf', 'Other Specified & UnSpecified Paraphilic Disorder.pdf', 'Intellectual Disabilities.pdf', 'Insomnia Disorder.pdf', 'Major and Mild Neurocognitive Disorders.pdf', 'Transvestic Disorder.pdf', 'Other Specified Depressive Disorder.pdf', 'Oppositional Defiant Disorder.pdf', 'Non–Rapid Eye Movement Sleep Arousal Disorders.pdf', 'Major or Mild Neurocognitive Disorder Due to Alzheimer’s Disease.pdf', 'Panic Disorder.pdf', 'Posttraumatic Stress Disorder.pdf', 'Schizophreniform Disorder.pdf', 'Other Specified Bipolar and Related Disorder.pdf', 'Schizophrenia Spectrum and Other Psychotic Disorders.pdf', 'Major Depressive Disorder.pdf', 'Other Specified & UnSpecified Dissociative Disorder.pdf', 'Central Sleep Apnea.pdf', 'Intermittent Explosive Disorder.pdf', 'Dissociative Disorders.pdf', 'Nightmare Disorder.pdf', 'Substance Medication-Induced Major or Mild Neurocognitive Disorder.pdf', 'Avoidant Personality Disorder.pdf', 'Schizophrenia.pdf', 'Personality Change Due to Another Medical Condition.pdf', 'Other Specified & UnSpecified Trauma- and Stressor-Related Disorder.pdf', 'Disruptive Mood Dysregulation Disorder.pdf', 'Other Specified & UnSpecified Feeding or Eating Disorder.pdf', 'Anxiety Disorder Due to Another Medical Condition.pdf', 'Trichotillomania (Hair-Pulling Disorder).pdf', 'Illness Anxiety Disorder.pdf', 'Substance-Related Disorders.pdf', 'Sleep-Wake Disorders.pdf', 'Paraphilic Disorders.pdf', 'Depersonalization Derealization Disorder.pdf', 'Psychological Factors Affecting Other Medical Conditions.pdf', 'Avoidant Restrictive Food Intake Disorder.pdf', 'Binge-Eating Disorder.pdf', 'Somatic Symptom Disorder.pdf', 'Neurodevelopmental Disorders.pdf', 'Circadian Rhythm Sleep-Wake Disorders.pdf', 'Conduct Disorder.pdf', 'Major or Mild Neurocognitive Disorder Due to HIV Infection.pdf', 'Antisocial Personality Disorder.pdf', 'Other Neurodevelopmental Disorders.pdf', 'Borderline Personality Disorder.pdf', 'Schizoaffective Disorder.pdf', 'Substance Medication-Induced Bipolar and Related Disorder.pdf', 'Pedophilic Disorder.pdf', 'Schizoid Personality Disorder.pdf', 'Factitious Disorder.pdf', 'Frotteuristic Disorder.pdf', 'Other Specified & UnSpecified Schizophrenia Spectrum and Other Psychotic Disorder.pdf', 'Bipolar II Disorder.pdf', 'Antisocial Personality Disorder (Personality Disorders).pdf', 'Depressive Disorder Due to Another Medical Condition.pdf', 'Adjustment Disorders.pdf', 'Major or Mild Neurocognitive Disorder Due to Huntington’s Disease.pdf'])\n",
            "\n",
            "--- Boolean Search ---\n",
            "Boolean Search Results for 'factors AND must AND be AND considered':\n",
            "Document: Schizophrenia.pdf\n",
            "  Line: Cultural and socioeconomic factors must be considered, particularly  when the individual\n",
            "Document: Schizoaffective Disorder.pdf\n",
            "  Line: Cultural and socioeconomic factors must be considered, particularly  when the individual\n",
            "\n",
            "--- Vector Space Search ---\n",
            "Vector Space Search Results for 'ADHD':\n",
            "Document: Attention-Deficit Hyperactivity.pdf\n",
            "  Line: The essential feature of attent ion-deficit/hyperactivity disorder (ADHD) is a persistent\n",
            "  Line: development. Inattention  manifests behaviorally in ADHD as wandering off task, lacking\n",
            "  Line: ADHD begins in childhood. The requirement that several symptoms  be present before\n",
            "  Line: Mild delays in language, motor,  or social development are not specific to ADHD but often co-\n",
            "  Line: dividuals with ADHD may exhibit cognitive pr oblems on tests of attention, executive\n",
            "  Line: agnostic indices. By early adulthood, ADHD is a ssociated with an increased risk of suicide at-\n",
            "  Line: dren with ADHD display incr eased slow wave electroenc ephalograms, reduced total\n",
            "  Line: ADHD presentation should still be diagnosed.\n",
            "  Line: Population surveys sugge st that ADHD occurs in most cultures in about 5% of children\n",
            "  Line: years. ADHD is most often identified during elementary school years, and inattention be-\n",
            "  Line: behaviors. In most individuals with ADHD , symptoms of motoric hyperactivity become\n",
            "  Line: poor planning, and impulsivity persist. A subs tantial proportion of children with ADHD\n",
            "  Line: Temperamental. ADHD is associated with reduced be havioral inhibition, effortful con-\n",
            "  Line: may predispose some children to ADHD bu t are not specific to the disorder.\n",
            "  Line: fold risk for ADHD, but most children with low birth weig ht do not develop ADHD. Al-\n",
            "  Line: though ADHD is correlated with smoking du ring pregnancy, some of this association\n",
            "  Line: to environmental toxicants has been correlat ed with subsequent ADHD, but it is not\n",
            "  Line: Genetic and physiological. ADHD is elevated in the firs t-degree biological relatives of\n",
            "  Line: individuals with ADHD. The heritability of AD HD is substantial. While specific genes\n",
            "  Line: have been correlated with ADHD, they are ne ither necessary nor sufficient causal factors.\n",
            "  Line: ficiencies, and epilepsy should be considered as possible influences on ADHD symptoms.\n",
            "  Line: ADHD is not associated with specific physic al features, although  rates of minor phys-\n",
            "  Line: ADHD but may influence its course or contri bute to secondary development of conduct\n",
            "  Line: Differences in ADHD prevalence rates across re gions appear attributable mainly to differ-\n",
            "  Line: are relevant in assessing ADHD.Attention-Deficit/Hyperactivity Disorder 63\n",
            "  Line: ADHD is more frequent in males than in fema les in the general population, with a ratio of\n",
            "  Line: ADHD is associated with reduced school performance and academic attainment, social re-\n",
            "  Line: with ADHD are significantly more likely than  their peers without ADHD to develop con-\n",
            "  Line: tisocial personality disorder develops. Individuals with ADHD are more likely than peers\n",
            "  Line: to be injured. Traffic accidents and violatio ns are more frequent in drivers with ADHD.\n",
            "  Line: There may be an elevated likelihood of  obesity among individuals with ADHD.\n",
            "  Line: often disrupted by peer rejection, neglect, or  teasing of the individual with ADHD. On av-\n",
            "  Line: erage, individuals with ADHD obtain less schooling, have poorer vocational achievement,\n",
            "  Line: in individuals with ADHD. Complicating the di fferential diagnosis is the fact that some\n",
            "  Line: individuals with ADHD may develop secondary oppositional attitudes toward such tasks\n",
            "  Line: Intermittent explosive disorder. ADHD and intermittent expl osive disorder share high\n",
            "  Line: show serious aggression toward others, which is not characteristic of ADHD, and they do\n",
            "  Line: not experience problems with sustaining atte ntion as seen in ADHD. In addition, intermit-\n",
            "  Line: nosed in the presence of ADHD.\n",
            "  Line: ADHD must be distinguished from the repetiti ve motor behavior that  characterizes stereo-\n",
            "  Line: ing, self-biting), whereas the fidgetiness and restlessness in ADHD are typically general-\n",
            "  Line: frequent multiple tics can be mistaken for the generalized fidgetiness of ADHD. Prolonged\n",
            "  Line: individuals with a specific learning disorder  who do not have ADHD is not impairing out-\n",
            "  Line: Intellectual disability (intell ectual developmental disorder). Symptoms of ADHD are\n",
            "  Line: diagnosis of ADHD in intellectual disability requires that inattention or hyperactivity be\n",
            "  Line: Autism spectrum disorder. Individuals with ADHD and those with autism spectrum\n",
            "  Line: cial dysfunction and peer rejection seen in individuals with ADHD must be distinguished\n",
            "  Line: expected course of events. In contrast, child ren with ADHD may misbehave or have a tan-\n",
            "  Line: social disinhibition, but not the full ADHD symptom cluster, and display other features\n",
            "  Line: such as a lack of enduring relationship s that are not characteristic of ADHD.\n",
            "  Line: Anxiety disorders. ADHD shares symptoms of inattent ion with anxiety disorders. Indi-\n",
            "  Line: viduals with ADHD are inattentive because of their attraction to external stimuli, new\n",
            "  Line: in anxiety disorders. Howeve r, in ADHD, the symptom is not associated with worry and\n",
            "  Line: ADHD may show significant changes in mood within the same day; such lability is dis-\n",
            "  Line: severe irritability and anger are prominent,  whereas ADHD is common among children\n",
            "  Line: cents with the disorder have symptoms that also meet crit eria for ADHD, which is diag-\n",
            "  Line: Substance use disorders. Differentiating ADHD from su bstance use disorders may be\n",
            "  Line: problematic if the first presentation of ADHD symptoms follows the onset of abuse or fre-\n",
            "  Line: quent use. Clear evidence of ADHD before su bstance misuse from informants or previous\n",
            "  Line: Personality disorders. In adolescents and adults, it may be difficult to distinguish ADHD\n",
            "  Line: cognitive dysregulation. Howe ver, ADHD is not characterized by fear of abandonment,\n",
            "  Line: Psychotic disorders. ADHD is not diagnosed if the symp toms of inattention and hyperac-\n",
            "  Line: Medication-induced symptoms of ADHD. Symptoms of inattention, hyperactivity, or\n",
            "  Line: mild neurocognitive disorder are not known to  be associated with ADHD but may present\n",
            "  Line: with similar clinical features. These conditions are distinguished from ADHD by their late\n",
            "  Line: criteria for ADHD. In the general population, oppositional defiant di sorder co-occurs with\n",
            "  Line: ADHD in approximately half of children wi th the combined presentation and about a\n",
            "  Line: order have symptoms that also meet criteria  for ADHD; a lesser percentage of children\n",
            "  Line: with ADHD have symptoms that meet criter ia for disruptive mood dysregulation disor-\n",
            "  Line: der. Specific learning disorder commonly co-occurs with ADHD. Anxiety disorders and\n",
            "  Line: major depressive disorder occur in a minority  of individuals with ADHD but more often\n",
            "  Line: adults with ADHD, but at rates above population levels. Although substance use disor-\n",
            "  Line: ders are relatively more frequent among adul ts with ADHD in the general population, the\n",
            "  Line: other personality disorders may co-occur with ADHD. Other disorders that may co-occur\n",
            "  Line: with ADHD include obsessive-compulsive diso rder, tic disorders, and autism spectrum\n",
            "Document: Motor Disorders.pdf\n",
            "  Line: the poor academic performance associated with ADHD, because in the latter condition the\n",
            "  Line: specific learning disorder and ADHD is more fr equent than expected by chance. If criteria\n",
            "  Line: Specific learning disorder commonly co-occ urs with neurodevelopmental (e.g., ADHD,\n",
            "  Line: developmental coordination disorder with atte ntion-deficit/hyperactiv ity disorder (ADHD),\n",
            "  Line: Course modifiers. Individuals with ADHD and with developmental coordination dis-\n",
            "  Line: order demonstrate more impair ment than individuals with  ADHD without developmen-\n",
            "  Line: Attention-deficit/hyperactivity disorder. Individuals with ADHD may fall, bump into\n",
            "  Line: rather than to developmental coordination disorder. If criteria for both ADHD and devel-\n",
            "  Line: problems of inattention, incl uding ADHD (the most frequent coexisting condition, with\n",
            "  Line: disorder (ADHD), obsessive-co mpulsive disorder (OCD), and separation anxiety disorder\n",
            "  Line: such as ADHD or OCD, can have greater impa ct on functioning. Less commonly, tics dis-\n",
            "  Line: ders, with ADHD and obsessive-compulsive and related disorders be ing particularly com-\n",
            "  Line: with selective serotonin reuptake inhibitors. Children with ADHD ma y demonstrate disrup-\n",
            "Document: Conduct Disorder.pdf\n",
            "  Line: orders may exhibit impulsive aggressive outbursts. Individu als with ADHD are typically\n",
            "  Line: disorders with disruptive beha viors (e.g., ADHD, conduct di sorder, oppositional defiant\n",
            "  Line: have concurrent attention-deficit/hyperactiv ity disorder (ADHD) or other neurodevel-\n",
            "  Line: schizophrenia or biological parents who have  a history of ADHD or conduct disorder.\n",
            "  Line: ADHD and by substance abuse. \n",
            "  Line: Attention-deficit/hyperactivity disorder. Although children with  ADHD often exhibit\n",
            "  Line: teria for conduct disorder. When criteria are met for both ADHD and conduct disorder, both\n",
            "  Line: ADHD and oppositional defiant disorder are both common in individuals with conduct\n",
            "Document: Neurodevelopmental Disorders.pdf\n",
            "  Line: many children with attention-deficit/hyperactivity disorder (ADHD) also have a specific\n",
            "  Line: ADHD is a neurodevelopmental disorder defined by impairing levels of inattention, dis-\n",
            "  Line: that are excessive for age or developmental level. In childhood, ADHD frequently overlaps\n",
            "  Line: defiant disorder and conduct di sorder. ADHD often persists in to adulthood, with resultant\n",
            "Document: Cyclothymic Disorder.pdf\n",
            "  Line: symptoms of ADHD, such as rapid speech, racing thoughts, distractibility, and less need\n",
            "  Line: ward both ADHD and bipolar II disorder can be avoided if the clinician clarifies whether\n",
            "  Line: Personality disorders. The same convention as applies for ADHD also applies when\n",
            "Document: Disinhibited Social Engagement Disorder.pdf\n",
            "  Line: accompanies attention-deficit/hyperactivity di sorder (ADHD), it is necessary to differ-\n",
            "  Line: distinguished from those with ADHD because th e former do not show difficulties with at-\n",
            "  Line: order. In addition, children may be diagnosed with ADHD and disinhibited social engage-\n",
            "Document: Intermittent Explosive Disorder.pdf\n",
            "  Line: cents, and adults with ADHD, and this may be the result of shared temperamental risk fac-\n",
            "  Line: or absence of attentio n-deficit/hyperactivity disorder (ADHD) or disruptive, impulse-\n",
            "  Line: orders may exhibit impulsive aggressive outbursts. Individu als with ADHD are typically\n",
            "  Line: disorders with disruptive beha viors (e.g., ADHD, conduct di sorder, oppositional defiant\n",
            "Document: Bipolar II Disorder.pdf\n",
            "  Line: sleep. The “double counting” of symptoms toward both ADHD and bipolar disorder can\n",
            "  Line: bia), occurring in approximatel y three-fourths of individuals; ADHD, any disruptive, im-\n",
            "  Line: Attention-deficit/hype ractivity disorder. Attention-deficit/hypera ctivity disorder (ADHD)\n",
            "  Line: symptoms of ADHD, such as rapid speech, racing thoughts, distractibility, and less need\n",
            "  Line: ward both ADHD and bipolar II disorder can be avoided if the clinician clarifies whether\n",
            "  Line: Personality disorders. The same convention as applies for ADHD also applies when\n",
            "Document: Specific Learning Disorder.pdf\n",
            "  Line: der [ADHD], autistic spectrum  disorder, communication diso rders, developmental coor-\n",
            "  Line: disorder in reading and writ ten expression. Comorbidity wi th ADHD is predictive of\n",
            "  Line: ADHD. Systematic, intensive, individualized instruction, using evidence-based interven-\n",
            "  Line: the poor academic performance associated with ADHD, because in the latter condition the\n",
            "  Line: specific learning disorder and ADHD is more fr equent than expected by chance. If criteria\n",
            "  Line: Specific learning disorder commonly co-occ urs with neurodevelopmental (e.g., ADHD,\n",
            "Document: Oppositional Defiant Disorder.pdf\n",
            "  Line: hyperactivity disorder (ADHD)  and conduct disorder (see the section “Comorbidity” for\n",
            "  Line: Attention-deficit/hyperactivity disorder. ADHD is often comorbid  with oppositional de-\n",
            "  Line: cents, and adults with ADHD, and this may be the result of shared temperamental risk fac-\n",
            "Document: Disruptive Mood Dysregulation Disorder.pdf\n",
            "  Line: meet criteria for atte ntion-deficit/hyperactivity disorder  (ADHD) and for an anxiety dis-\n",
            "  Line: dysregulation disorder also can receive a co morbid diagnosis of ADHD, major depressive\n",
            "Document: Bipolar I Disorder.pdf\n",
            "  Line: sleep. The “double counting” of symptoms toward both ADHD and bipolar disorder can\n",
            "  Line: bia), occurring in approximatel y three-fourths of individuals; ADHD, any disruptive, im-\n",
            "Document: Autism Spectrum Disorder.pdf\n",
            "  Line: peractivity. A diagnosi s of attention-deficit/hyperactivity disord er (ADHD) should be\n",
            "  Line: mental disorders). When criteria for both ADHD and autism spectrum disorder are met, both\n",
            "Document: Communication Disorders.pdf\n",
            "  Line: actions. Attention-deficit/hype ractivity disorder (ADHD), beha vioral problems, and specific\n"
          ]
        }
      ]
    },
    {
      "cell_type": "markdown",
      "source": [
        "#####The bellow code provides a hybrid approach for document retrieval and ranking using a combination of TF-IDF and BERT models. First, it extracts text from PDFs stored in a ZIP file. The documents are then preprocessed, and TF-IDF is used to rank the documents based on the query. BERT is employed to rank documents by semantic similarity, generating embeddings for both the query and documents. The system first retrieves documents using BERT embeddings for relevance and then refines the ranking using TF-IDF. Finally, the top-ranked documents are presented, with matching lines from the documents displayed based on the query, offering a comprehensive document retrieval system that handles both direct and conceptual queries."
      ],
      "metadata": {
        "id": "HdXj3b3vVMb_"
      }
    },
    {
      "cell_type": "markdown",
      "source": [
        "##Import Required Libraries"
      ],
      "metadata": {
        "id": "veN8ayQHTlQL"
      }
    },
    {
      "cell_type": "code",
      "source": [
        "import os\n",
        "import zipfile\n",
        "from pathlib import Path\n",
        "from nltk.tokenize import TreebankWordTokenizer\n",
        "from PyPDF2 import PdfReader\n",
        "from sklearn.feature_extraction.text import TfidfVectorizer\n",
        "from sklearn.metrics.pairwise import cosine_similarity\n",
        "import torch\n",
        "from transformers import BertTokenizer, BertModel\n",
        "import nltk\n",
        "from nltk.tokenize import word_tokenize\n",
        "from nltk.corpus import stopwords\n",
        "from nltk.stem import PorterStemmer\n",
        "from nltk.stem import WordNetLemmatizer\n"
      ],
      "metadata": {
        "id": "WA0eX05rTlxv"
      },
      "execution_count": 81,
      "outputs": []
    },
    {
      "cell_type": "markdown",
      "source": [
        "##BERT Setup"
      ],
      "metadata": {
        "id": "RJTqisgdTpVD"
      }
    },
    {
      "cell_type": "code",
      "source": [
        "tokenizer = BertTokenizer.from_pretrained('bert-base-uncased')\n",
        "bert_model = BertModel.from_pretrained('bert-base-uncased')\n"
      ],
      "metadata": {
        "id": "zId40agZTmpR"
      },
      "execution_count": 84,
      "outputs": []
    },
    {
      "cell_type": "markdown",
      "source": [
        "##Helper Functions to Load Documents"
      ],
      "metadata": {
        "id": "MtTTehn6TuwE"
      }
    },
    {
      "cell_type": "code",
      "source": [
        "# Helper functions to load documents\n",
        "def extract_text_from_pdf(pdf_path):\n",
        "    \"\"\"Extracts text from a PDF file.\"\"\"\n",
        "    with open(pdf_path, 'rb') as file:\n",
        "        pdf = PdfReader(file)\n",
        "        text = \"\"\n",
        "        for page in pdf.pages:\n",
        "            text += page.extract_text()\n",
        "    return text\n",
        "\n",
        "def load_pdfs_from_zip(zip_path):\n",
        "    \"\"\"Loads PDF files from a ZIP file and extracts their text.\"\"\"\n",
        "    extracted_texts = {}\n",
        "    temp_dir = \"temp_documents\"\n",
        "\n",
        "    # Unzip the documents\n",
        "    with zipfile.ZipFile(zip_path, 'r') as zip_ref:\n",
        "        zip_ref.extractall(temp_dir)\n",
        "\n",
        "    # Iterate through the extracted PDF files\n",
        "    for pdf_file in Path(temp_dir).rglob(\"*.pdf\"):\n",
        "        extracted_texts[pdf_file.name] = extract_text_from_pdf(pdf_file)\n",
        "\n",
        "    # Clean up the temporary directory\n",
        "    for file in Path(temp_dir).glob(\"*\"):\n",
        "        if file.is_file():\n",
        "            file.unlink()\n",
        "        else:\n",
        "            for subfile in file.glob(\"*\"):\n",
        "                subfile.unlink()\n",
        "            file.rmdir()\n",
        "    Path(temp_dir).rmdir()\n",
        "\n",
        "    return extracted_texts\n"
      ],
      "metadata": {
        "id": "Gdn2Pka9Toia"
      },
      "execution_count": 85,
      "outputs": []
    },
    {
      "cell_type": "markdown",
      "source": [
        "##BERT Embedding for Queries and Documents"
      ],
      "metadata": {
        "id": "S5C0eKAhT1yT"
      }
    },
    {
      "cell_type": "code",
      "source": [
        "# BERT embedding for queries and documents\n",
        "def get_bert_embeddings(text):\n",
        "    \"\"\"Generate BERT embeddings for a given text.\"\"\"\n",
        "    inputs = tokenizer(text, return_tensors='pt', truncation=True, padding=True)\n",
        "    with torch.no_grad():\n",
        "        outputs = bert_model(**inputs)\n",
        "    return outputs.last_hidden_state.mean(dim=1).squeeze()\n"
      ],
      "metadata": {
        "id": "dOwL0RIOTyAU"
      },
      "execution_count": 86,
      "outputs": []
    },
    {
      "cell_type": "markdown",
      "source": [
        "##TF-IDF Pre-processing"
      ],
      "metadata": {
        "id": "qNwVny0yT-rb"
      }
    },
    {
      "cell_type": "code",
      "source": [
        "# TF-IDF pre-processing\n",
        "def preprocess_query(query):\n",
        "    \"\"\"Preprocesses the query by tokenizing, stemming, and lemmatizing.\"\"\"\n",
        "    tokens = word_tokenize(query.lower())\n",
        "    stop_words = set(stopwords.words('english'))\n",
        "    tokens = [word for word in tokens if word not in stop_words]\n",
        "\n",
        "    # Apply stemming and lemmatization\n",
        "    stemmer = PorterStemmer()\n",
        "    tokens = [stemmer.stem(word) for word in tokens]\n",
        "\n",
        "    lemmatizer = WordNetLemmatizer()\n",
        "    tokens = [lemmatizer.lemmatize(word) for word in tokens]\n",
        "\n",
        "    return \" \".join(tokens)\n"
      ],
      "metadata": {
        "id": "cIWFoEvaT5gt"
      },
      "execution_count": 87,
      "outputs": []
    },
    {
      "cell_type": "markdown",
      "source": [
        "##Vector Space Search using TF-IDF"
      ],
      "metadata": {
        "id": "JqmBmICOUCgl"
      }
    },
    {
      "cell_type": "code",
      "source": [
        "# Vector space search using TF-IDF\n",
        "def vector_space_search(documents, query, top_n=5):\n",
        "    \"\"\"Performs a vector space search using TF-IDF and ranks documents.\"\"\"\n",
        "    query_tokens = preprocess_query(query)\n",
        "\n",
        "    # Prepare TF-IDF matrix\n",
        "    vectorizer = TfidfVectorizer(stop_words='english', ngram_range=(1, 3))\n",
        "    doc_names = list(documents.keys())\n",
        "    doc_texts = list(documents.values())\n",
        "    tfidf_matrix = vectorizer.fit_transform(doc_texts)\n",
        "\n",
        "    # Transform query into the same TF-IDF space\n",
        "    query_vector = vectorizer.transform([query_tokens])\n",
        "\n",
        "    # Compute cosine similarity\n",
        "    similarities = cosine_similarity(query_vector, tfidf_matrix).flatten()\n",
        "    top_indices = similarities.argsort()[-top_n:][::-1]\n",
        "\n",
        "    # Get the top N results\n",
        "    top_documents = [(doc_names[i], similarities[i], doc_texts[i]) for i in top_indices]\n",
        "\n",
        "    return top_documents\n"
      ],
      "metadata": {
        "id": "QKpMHdgnUARX"
      },
      "execution_count": 88,
      "outputs": []
    },
    {
      "cell_type": "markdown",
      "source": [
        "##Rank Documents with BERT"
      ],
      "metadata": {
        "id": "1HryDu5gUFjg"
      }
    },
    {
      "cell_type": "code",
      "source": [
        "# Rank documents with BERT similarity\n",
        "def rank_documents_with_bert(documents, query, top_n=5):\n",
        "    \"\"\"Ranks documents using BERT embeddings based on semantic similarity.\"\"\"\n",
        "    query_embedding = get_bert_embeddings(query)\n",
        "\n",
        "    document_embeddings = []\n",
        "    for doc_name, doc_text in documents.items():\n",
        "        doc_embedding = get_bert_embeddings(doc_text)\n",
        "        document_embeddings.append(doc_embedding)\n",
        "\n",
        "    similarities = [cosine_similarity([query_embedding], [doc_emb])[0][0] for doc_emb in document_embeddings]\n",
        "    ranked_docs = sorted(zip(documents.keys(), similarities), key=lambda x: x[1], reverse=True)\n",
        "\n",
        "    return ranked_docs\n"
      ],
      "metadata": {
        "id": "j5a6KyelUD-C"
      },
      "execution_count": 89,
      "outputs": []
    },
    {
      "cell_type": "markdown",
      "source": [
        "##Combine BERT for Retrieval and TF-IDF for Ranking"
      ],
      "metadata": {
        "id": "L_GKYTpkUItn"
      }
    },
    {
      "cell_type": "code",
      "source": [
        "# Combine BERT for retrieval and TF-IDF for ranking\n",
        "def retrieve_and_rank(documents, query, top_n=5):\n",
        "    \"\"\"Retrieve and rank documents using BERT for retrieval and TF-IDF for ranking.\"\"\"\n",
        "    # Step 1: Retrieve documents using BERT similarity\n",
        "    ranked_docs_by_bert = rank_documents_with_bert(documents, query, top_n=top_n)\n",
        "\n",
        "    # Step 2: Rank documents with TF-IDF within the top BERT results\n",
        "    top_docs = [doc_name for doc_name, _ in ranked_docs_by_bert]\n",
        "    filtered_docs = {doc_name: documents[doc_name] for doc_name in top_docs}\n",
        "    tfidf_results = vector_space_search(filtered_docs, query, top_n=top_n)\n",
        "\n",
        "    return tfidf_results\n"
      ],
      "metadata": {
        "id": "B3BF9fBsUG4J"
      },
      "execution_count": 90,
      "outputs": []
    },
    {
      "cell_type": "markdown",
      "source": [
        "##Main Function to Load Documents and Perform Search"
      ],
      "metadata": {
        "id": "eB1FNHsQULrx"
      }
    },
    {
      "cell_type": "code",
      "source": [
        "# Main function\n",
        "def main():\n",
        "    zip_path = \"/content/drive/MyDrive/phase2/Documents.zip\"  # Path to your ZIP file containing PDFs\n",
        "    print(\"Loading documents...\")\n",
        "    documents = load_pdfs_from_zip(zip_path)\n",
        "    print(f\"Documents loaded: {documents.keys()}\")\n",
        "\n",
        "    # Example query\n",
        "    query = \"what is Diagnostic Features?\"\n",
        "\n",
        "    # Retrieve and rank documents\n",
        "    print(\"\\n--- Retrieve and Rank Documents ---\")\n",
        "    ranked_documents = retrieve_and_rank(documents, query, top_n=20)\n",
        "\n",
        "    # Show matching lines containing the query\n",
        "    for doc_name, score, content in ranked_documents:\n",
        "        print(f\"Document: {doc_name}\")\n",
        "        print(f\"Score (TF-IDF): {score}\")\n",
        "\n",
        "        # Extract matching lines from the document\n",
        "        lines = content.split(\"\\n\")\n",
        "        matching_lines = [line for line in lines if query.lower() in line.lower()]\n",
        "\n",
        "        if matching_lines:\n",
        "            for line in matching_lines:\n",
        "                print(f\"  Matching Line: {line}\")\n",
        "        else:\n",
        "            print(\"  No matching lines found.\")"
      ],
      "metadata": {
        "id": "Aw4rkmfLUKHG"
      },
      "execution_count": 92,
      "outputs": []
    },
    {
      "cell_type": "code",
      "source": [
        "if __name__ == \"__main__\":\n",
        "    main()"
      ],
      "metadata": {
        "colab": {
          "base_uri": "https://localhost:8080/"
        },
        "id": "4J3U-pQpUPAM",
        "outputId": "2903767b-7264-46c1-d389-736333a27ecf"
      },
      "execution_count": 93,
      "outputs": [
        {
          "output_type": "stream",
          "name": "stdout",
          "text": [
            "Loading documents...\n",
            "Documents loaded: dict_keys(['Voyeuristic Disorder.pdf', 'Rapid Eye Movement Sleep Behavior Disorder.pdf', 'Narcolepsy.pdf', 'Panic Attack Specifier.pdf', 'Major or Mild Neurocognitive Disorder Due to Prion Disease.pdf', 'Conversion Disorder (Functional Neurological Symptom Disorder).pdf', 'Narcissistic Personality Disorder.pdf', 'Hoarding Disorder.pdf', 'Other Mental Disorders.pdf', 'Stimulant-Related Disorders.pdf', 'Unspecified Bipolar and Related Disorder.pdf', 'Obsessive-Compulsive and Related Disorders.pdf', 'Disruptive, Impulse-Control, and Conduct Disorders.pdf', 'Premenstrual Dysphoric Disorder.pdf', 'Body Dysmorphic Disorder.pdf', 'Dependent Personality Disorder.pdf', 'Anxiety Disorders.pdf', 'Major or Mild Neurocognitive Disorder With Lewy Bodies.pdf', 'Separation Anxiety Disorder.pdf', 'Alcohol-Related Disorders.pdf', 'Major or Mild Vascular Neurocognitive Disorder.pdf', 'Dissociative Amnesia.pdf', 'Histrionic Personality Disorder.pdf', 'Substance Medication-Induced Obsessive-Compulsive and Related Disorder.pdf', 'Tobacco-Related Disorders.pdf', 'Persistent Depressive Disorder (Dysthymia).pdf', 'Cannabis-Related Disorders.pdf', 'Cyclothymic Disorder.pdf', 'Specific Phobia.pdf', 'Gender Dysphoria.pdf', 'Generalized Anxiety Disorder.pdf', 'Restless Legs Syndrome.pdf', 'Exhibitionistic Disorder.pdf', 'Obstructive Sleep Apnea Hypopnea.pdf', 'Hallucinogen-Related Disorders.pdf', 'Trauma- and Stressor-Related Disorders.pdf', 'Major or Mild Frontotemporal Neurocognitive Disorder.pdf', 'Elimination Disorders.pdf', 'Communication Disorders.pdf', 'Feeding and Eating Disorders.pdf', 'Motor Disorders.pdf', 'Obsessive-Compulsive Disorder.pdf', 'Social Anxiety Disorder (Social Phobia).pdf', 'Delusional Disorder.pdf', 'Substance Medication-Induced Psychotic Disorder.pdf', 'Autism Spectrum Disorder.pdf', 'Pica.pdf', 'Major or Mild Neurocognitive Disorder Due to Another Medical Condition.pdf', 'Depressive Disorders.pdf', 'Brief Psychotic Disorder.pdf', 'Psychotic Disorder Due to Another Medical Condition.pdf', 'Substance Medication-Induced Depressive Disorder.pdf', 'Hypersomnolence Disorder.pdf', 'Reactive Attachment Disorder.pdf', 'Rumination Disorder.pdf', 'Non-Substance-Related Disorders.pdf', 'Disinhibited Social Engagement Disorder.pdf', 'Other Sleep-Wake Disorders.pdf', 'General Personality Disorder.pdf', 'Substance-Related and Addictive Disorders.pdf', 'Neurocognitive Disorders.pdf', 'Substance Medication-Induced.pdf', 'Major or Mild Neurocognitive Disorder Due to Traumatic Brain Injury.pdf', 'Caffeine-Related Disorders.pdf', 'Other Specified & UnSpecified Obsessive-Compulsive and Related Disorder.pdf', 'Specific Learning Disorder.pdf', 'Major or Mild Neurocognitive Disorder Due to Parkinson’s Disease.pdf', 'Other (or Unknown) Substance–Related Disorders.pdf', 'Bulimia Nervosa.pdf', 'Acute Stress Disorder.pdf', 'Other Conditions That May Be a Focus of Clinical Attention.pdf', 'Obsessive-Compulsive and Related Disorder Due to Another Medical Condition.pdf', 'Inhalant-Related Disorders.pdf', 'Major or Mild Neurocognitive Disorder Due to Multiple Etiologies.pdf', 'Selective Mutism.pdf', 'Somatic Symptom and Related Disorders.pdf', 'Personality Disorders.pdf', 'Sleep-Related Hypoventilation.pdf', 'Other Specified & UnSpecified Somatic Symptom and Related Disorder.pdf', 'Delirium.pdf', 'Catatonia.pdf', 'Attention-Deficit Hyperactivity.pdf', 'Opioid-Related Disorders.pdf', 'Bipolar and Related Disorder Due to Another Medical Condition.pdf', 'Bipolar I Disorder.pdf', 'Schizotypal Personality Disorder.pdf', 'Excoriation (Skin-Picking) Disorder.pdf', 'Obsessive-Compulsive Personality Disorder.pdf', 'Medication-Induced Movement Disorders and.pdf', 'Agoraphobia.pdf', 'Paranoid Personality Disorder.pdf', 'Fetishistic Disorder.pdf', 'Sedative-, Hypnotic-, or Anxiolytic-Related Disorders.pdf', 'Anorexia Nervosa.pdf', 'Dissociative Identity Disorder.pdf', 'Substance Medication-Induced Sleep Disorder.pdf', 'Other Specified & UnSpecified Paraphilic Disorder.pdf', 'Intellectual Disabilities.pdf', 'Insomnia Disorder.pdf', 'Major and Mild Neurocognitive Disorders.pdf', 'Transvestic Disorder.pdf', 'Other Specified Depressive Disorder.pdf', 'Oppositional Defiant Disorder.pdf', 'Non–Rapid Eye Movement Sleep Arousal Disorders.pdf', 'Major or Mild Neurocognitive Disorder Due to Alzheimer’s Disease.pdf', 'Panic Disorder.pdf', 'Posttraumatic Stress Disorder.pdf', 'Schizophreniform Disorder.pdf', 'Other Specified Bipolar and Related Disorder.pdf', 'Schizophrenia Spectrum and Other Psychotic Disorders.pdf', 'Major Depressive Disorder.pdf', 'Other Specified & UnSpecified Dissociative Disorder.pdf', 'Central Sleep Apnea.pdf', 'Intermittent Explosive Disorder.pdf', 'Dissociative Disorders.pdf', 'Nightmare Disorder.pdf', 'Substance Medication-Induced Major or Mild Neurocognitive Disorder.pdf', 'Avoidant Personality Disorder.pdf', 'Schizophrenia.pdf', 'Personality Change Due to Another Medical Condition.pdf', 'Other Specified & UnSpecified Trauma- and Stressor-Related Disorder.pdf', 'Disruptive Mood Dysregulation Disorder.pdf', 'Other Specified & UnSpecified Feeding or Eating Disorder.pdf', 'Anxiety Disorder Due to Another Medical Condition.pdf', 'Trichotillomania (Hair-Pulling Disorder).pdf', 'Illness Anxiety Disorder.pdf', 'Substance-Related Disorders.pdf', 'Sleep-Wake Disorders.pdf', 'Paraphilic Disorders.pdf', 'Depersonalization Derealization Disorder.pdf', 'Psychological Factors Affecting Other Medical Conditions.pdf', 'Avoidant Restrictive Food Intake Disorder.pdf', 'Binge-Eating Disorder.pdf', 'Somatic Symptom Disorder.pdf', 'Neurodevelopmental Disorders.pdf', 'Circadian Rhythm Sleep-Wake Disorders.pdf', 'Conduct Disorder.pdf', 'Major or Mild Neurocognitive Disorder Due to HIV Infection.pdf', 'Antisocial Personality Disorder.pdf', 'Other Neurodevelopmental Disorders.pdf', 'Borderline Personality Disorder.pdf', 'Schizoaffective Disorder.pdf', 'Substance Medication-Induced Bipolar and Related Disorder.pdf', 'Pedophilic Disorder.pdf', 'Schizoid Personality Disorder.pdf', 'Factitious Disorder.pdf', 'Frotteuristic Disorder.pdf', 'Other Specified & UnSpecified Schizophrenia Spectrum and Other Psychotic Disorder.pdf', 'Bipolar II Disorder.pdf', 'Antisocial Personality Disorder (Personality Disorders).pdf', 'Depressive Disorder Due to Another Medical Condition.pdf', 'Adjustment Disorders.pdf', 'Major or Mild Neurocognitive Disorder Due to Huntington’s Disease.pdf'])\n",
            "\n",
            "--- Retrieve and Rank Documents ---\n",
            "Document: Reactive Attachment Disorder.pdf\n",
            "Score (TF-IDF): 0.015250657944965386\n",
            "  No matching lines found.\n",
            "Document: Disinhibited Social Engagement Disorder.pdf\n",
            "Score (TF-IDF): 0.009271169672696599\n",
            "  No matching lines found.\n",
            "Document: Bipolar I Disorder.pdf\n",
            "Score (TF-IDF): 0.009132773942148304\n",
            "  No matching lines found.\n",
            "Document: Conversion Disorder (Functional Neurological Symptom Disorder).pdf\n",
            "Score (TF-IDF): 0.008625708485633989\n",
            "  No matching lines found.\n",
            "Document: Psychotic Disorder Due to Another Medical Condition.pdf\n",
            "Score (TF-IDF): 0.008381655597001474\n",
            "  No matching lines found.\n",
            "Document: Antisocial Personality Disorder.pdf\n",
            "Score (TF-IDF): 0.007900858616611392\n",
            "  No matching lines found.\n",
            "Document: Frotteuristic Disorder.pdf\n",
            "Score (TF-IDF): 0.007533193655674743\n",
            "  No matching lines found.\n",
            "Document: Hoarding Disorder.pdf\n",
            "Score (TF-IDF): 0.006337874706084789\n",
            "  No matching lines found.\n",
            "Document: Body Dysmorphic Disorder.pdf\n",
            "Score (TF-IDF): 0.005200845666887191\n",
            "  No matching lines found.\n",
            "Document: Intellectual Disabilities.pdf\n",
            "Score (TF-IDF): 0.004738275859151299\n",
            "  No matching lines found.\n",
            "Document: Avoidant Restrictive Food Intake Disorder.pdf\n",
            "Score (TF-IDF): 0.004737280356682054\n",
            "  No matching lines found.\n",
            "Document: Motor Disorders.pdf\n",
            "Score (TF-IDF): 0.003652384174050746\n",
            "  No matching lines found.\n",
            "Document: Oppositional Defiant Disorder.pdf\n",
            "Score (TF-IDF): 0.0\n",
            "  No matching lines found.\n",
            "Document: Posttraumatic Stress Disorder.pdf\n",
            "Score (TF-IDF): 0.0\n",
            "  No matching lines found.\n",
            "Document: Sleep-Wake Disorders.pdf\n",
            "Score (TF-IDF): 0.0\n",
            "  No matching lines found.\n",
            "Document: Fetishistic Disorder.pdf\n",
            "Score (TF-IDF): 0.0\n",
            "  No matching lines found.\n",
            "Document: Obsessive-Compulsive Disorder.pdf\n",
            "Score (TF-IDF): 0.0\n",
            "  No matching lines found.\n",
            "Document: Obsessive-Compulsive Personality Disorder.pdf\n",
            "Score (TF-IDF): 0.0\n",
            "  No matching lines found.\n",
            "Document: Premenstrual Dysphoric Disorder.pdf\n",
            "Score (TF-IDF): 0.0\n",
            "  No matching lines found.\n",
            "Document: Major or Mild Neurocognitive Disorder Due to Huntington’s Disease.pdf\n",
            "Score (TF-IDF): 0.0\n",
            "  No matching lines found.\n"
          ]
        }
      ]
    }
  ],
  "metadata": {
    "accelerator": "GPU",
    "colab": {
      "gpuType": "T4",
      "provenance": []
    },
    "kernelspec": {
      "display_name": "Python 3",
      "name": "python3"
    },
    "language_info": {
      "name": "python"
    }
  },
  "nbformat": 4,
  "nbformat_minor": 0
}